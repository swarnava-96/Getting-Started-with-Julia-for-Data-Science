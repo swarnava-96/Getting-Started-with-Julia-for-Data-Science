{
 "cells": [
  {
   "cell_type": "markdown",
   "id": "fedf0fa8",
   "metadata": {},
   "source": [
    "### Arithmetic Operations"
   ]
  },
  {
   "cell_type": "code",
   "execution_count": 1,
   "id": "e271abc3",
   "metadata": {},
   "outputs": [
    {
     "data": {
      "text/plain": [
       "2"
      ]
     },
     "execution_count": 1,
     "metadata": {},
     "output_type": "execute_result"
    }
   ],
   "source": [
    "# Addition\n",
    "1 + 1"
   ]
  },
  {
   "cell_type": "code",
   "execution_count": 2,
   "id": "61ad9015",
   "metadata": {},
   "outputs": [
    {
     "data": {
      "text/plain": [
       "6"
      ]
     },
     "execution_count": 2,
     "metadata": {},
     "output_type": "execute_result"
    }
   ],
   "source": [
    "# Multiplication\n",
    "2*3"
   ]
  },
  {
   "cell_type": "code",
   "execution_count": 3,
   "id": "53f1c46d",
   "metadata": {},
   "outputs": [
    {
     "data": {
      "text/plain": [
       "0.6666666666666666"
      ]
     },
     "execution_count": 3,
     "metadata": {},
     "output_type": "execute_result"
    }
   ],
   "source": [
    "# Division\n",
    "2/3"
   ]
  },
  {
   "cell_type": "code",
   "execution_count": 5,
   "id": "33a6698c",
   "metadata": {},
   "outputs": [
    {
     "data": {
      "text/plain": [
       "3.0"
      ]
     },
     "execution_count": 5,
     "metadata": {},
     "output_type": "execute_result"
    }
   ],
   "source": [
    "# Bodmas rule\n",
    "2*3/2"
   ]
  },
  {
   "cell_type": "code",
   "execution_count": 6,
   "id": "61efc6f4",
   "metadata": {},
   "outputs": [
    {
     "data": {
      "text/plain": [
       "Float64"
      ]
     },
     "execution_count": 6,
     "metadata": {},
     "output_type": "execute_result"
    }
   ],
   "source": [
    "# Checking data type\n",
    "typeof(3.0)"
   ]
  },
  {
   "cell_type": "code",
   "execution_count": 7,
   "id": "8001fdfd",
   "metadata": {},
   "outputs": [
    {
     "data": {
      "text/plain": [
       "Int64"
      ]
     },
     "execution_count": 7,
     "metadata": {},
     "output_type": "execute_result"
    }
   ],
   "source": [
    "typeof(3)"
   ]
  },
  {
   "cell_type": "code",
   "execution_count": 8,
   "id": "bbb6b3f1",
   "metadata": {},
   "outputs": [
    {
     "data": {
      "text/plain": [
       "0"
      ]
     },
     "execution_count": 8,
     "metadata": {},
     "output_type": "execute_result"
    }
   ],
   "source": [
    "# Modulas\n",
    "10%2"
   ]
  },
  {
   "cell_type": "code",
   "execution_count": 9,
   "id": "a273b6e0",
   "metadata": {},
   "outputs": [
    {
     "data": {
      "text/plain": [
       "1"
      ]
     },
     "execution_count": 9,
     "metadata": {},
     "output_type": "execute_result"
    }
   ],
   "source": [
    "10%3"
   ]
  },
  {
   "cell_type": "code",
   "execution_count": 10,
   "id": "ac7f16f5",
   "metadata": {},
   "outputs": [
    {
     "data": {
      "text/plain": [
       "39"
      ]
     },
     "execution_count": 10,
     "metadata": {},
     "output_type": "execute_result"
    }
   ],
   "source": [
    "(3*5)+6*4"
   ]
  },
  {
   "cell_type": "code",
   "execution_count": 12,
   "id": "351ccd0a",
   "metadata": {},
   "outputs": [
    {
     "data": {
      "text/plain": [
       "Bool"
      ]
     },
     "execution_count": 12,
     "metadata": {},
     "output_type": "execute_result"
    }
   ],
   "source": [
    "# Boolean\n",
    "typeof(true)"
   ]
  },
  {
   "cell_type": "code",
   "execution_count": 13,
   "id": "04c70148",
   "metadata": {},
   "outputs": [
    {
     "data": {
      "text/plain": [
       "true"
      ]
     },
     "execution_count": 13,
     "metadata": {},
     "output_type": "execute_result"
    }
   ],
   "source": [
    "2==2"
   ]
  },
  {
   "cell_type": "code",
   "execution_count": 14,
   "id": "aa47cada",
   "metadata": {},
   "outputs": [
    {
     "data": {
      "text/plain": [
       "false"
      ]
     },
     "execution_count": 14,
     "metadata": {},
     "output_type": "execute_result"
    }
   ],
   "source": [
    "2==3"
   ]
  },
  {
   "cell_type": "code",
   "execution_count": 23,
   "id": "18d99bca",
   "metadata": {},
   "outputs": [
    {
     "data": {
      "text/plain": [
       "100"
      ]
     },
     "execution_count": 23,
     "metadata": {},
     "output_type": "execute_result"
    }
   ],
   "source": [
    "# Exponential\n",
    "10^2"
   ]
  },
  {
   "cell_type": "code",
   "execution_count": 24,
   "id": "45183c09",
   "metadata": {},
   "outputs": [
    {
     "data": {
      "text/plain": [
       "Int64"
      ]
     },
     "execution_count": 24,
     "metadata": {},
     "output_type": "execute_result"
    }
   ],
   "source": [
    "typeof(10^2)"
   ]
  },
  {
   "cell_type": "markdown",
   "id": "5cf84fac",
   "metadata": {},
   "source": [
    "### String Operations"
   ]
  },
  {
   "cell_type": "code",
   "execution_count": 16,
   "id": "91328bf0",
   "metadata": {},
   "outputs": [
    {
     "data": {
      "text/plain": [
       "\"Hi, I am Swarnava\""
      ]
     },
     "execution_count": 16,
     "metadata": {},
     "output_type": "execute_result"
    }
   ],
   "source": [
    "\"Hi, I am Swarnava\""
   ]
  },
  {
   "cell_type": "code",
   "execution_count": 18,
   "id": "3ae34c34",
   "metadata": {},
   "outputs": [
    {
     "data": {
      "text/plain": [
       "String"
      ]
     },
     "execution_count": 18,
     "metadata": {},
     "output_type": "execute_result"
    }
   ],
   "source": [
    "typeof(\"Hi\")"
   ]
  },
  {
   "cell_type": "code",
   "execution_count": 26,
   "id": "44bdd308",
   "metadata": {},
   "outputs": [
    {
     "name": "stdout",
     "output_type": "stream",
     "text": [
      "Swarnava Mukherjee"
     ]
    }
   ],
   "source": [
    "str1 = \"Swarnava \"\n",
    "str2 = \"Mukherjee\"\n",
    "print(str1,str2)"
   ]
  },
  {
   "cell_type": "code",
   "execution_count": 27,
   "id": "7b5075a0",
   "metadata": {},
   "outputs": [
    {
     "data": {
      "text/plain": [
       "\"Swarnava \""
      ]
     },
     "execution_count": 27,
     "metadata": {},
     "output_type": "execute_result"
    }
   ],
   "source": [
    "string(str1)"
   ]
  },
  {
   "cell_type": "code",
   "execution_count": 28,
   "id": "9572a1a9",
   "metadata": {},
   "outputs": [
    {
     "data": {
      "text/plain": [
       "\"Swarnava  Mukherjee is a good boy.\""
      ]
     },
     "execution_count": 28,
     "metadata": {},
     "output_type": "execute_result"
    }
   ],
   "source": [
    "# String concatenation\n",
    "string(str1,\" \",str2,\" \",\"is a good boy.\")"
   ]
  },
  {
   "cell_type": "code",
   "execution_count": 38,
   "id": "0a812f36",
   "metadata": {},
   "outputs": [
    {
     "data": {
      "text/plain": [
       "\"Hey there, I am Swarnava Mukherjee.\\nI am from Kolkata.\""
      ]
     },
     "execution_count": 38,
     "metadata": {},
     "output_type": "execute_result"
    }
   ],
   "source": [
    "# Multiline strings\n",
    "str= \"\"\"\n",
    "Hey there, I am Swarnava Mukherjee.\n",
    "I am from Kolkata.\"\"\""
   ]
  },
  {
   "cell_type": "code",
   "execution_count": 39,
   "id": "d02bf2f0",
   "metadata": {
    "scrolled": true
   },
   "outputs": [
    {
     "name": "stdout",
     "output_type": "stream",
     "text": [
      "Hey there, I am Swarnava Mukherjee.\n",
      "I am from Kolkata."
     ]
    }
   ],
   "source": [
    "print(str)"
   ]
  },
  {
   "cell_type": "code",
   "execution_count": 41,
   "id": "e5974469",
   "metadata": {},
   "outputs": [
    {
     "data": {
      "text/plain": [
       "\"I love \\\"Data Science\\\" more than Finance.\""
      ]
     },
     "execution_count": 41,
     "metadata": {},
     "output_type": "execute_result"
    }
   ],
   "source": [
    "# Quotes within quotes\n",
    "str= \"\"\"I love \"Data Science\" more than Finance.\"\"\""
   ]
  },
  {
   "cell_type": "code",
   "execution_count": 42,
   "id": "44b5abd4",
   "metadata": {},
   "outputs": [
    {
     "name": "stdout",
     "output_type": "stream",
     "text": [
      "I love \"Data Science\" more than Finance."
     ]
    }
   ],
   "source": [
    "print(str)"
   ]
  },
  {
   "cell_type": "markdown",
   "id": "03754548",
   "metadata": {},
   "source": [
    "### Variables"
   ]
  },
  {
   "cell_type": "code",
   "execution_count": 19,
   "id": "fc10c8d3",
   "metadata": {},
   "outputs": [
    {
     "data": {
      "text/plain": [
       "50"
      ]
     },
     "execution_count": 19,
     "metadata": {},
     "output_type": "execute_result"
    }
   ],
   "source": [
    "a = 100\n",
    "b = 50"
   ]
  },
  {
   "cell_type": "code",
   "execution_count": 20,
   "id": "dd222cd1",
   "metadata": {},
   "outputs": [
    {
     "data": {
      "text/plain": [
       "150"
      ]
     },
     "execution_count": 20,
     "metadata": {},
     "output_type": "execute_result"
    }
   ],
   "source": [
    "a + b"
   ]
  },
  {
   "cell_type": "code",
   "execution_count": 22,
   "id": "ec648d96",
   "metadata": {},
   "outputs": [
    {
     "name": "stdout",
     "output_type": "stream",
     "text": [
      "Hi, I am Swarnava.\n",
      "I work as a Data Analyst."
     ]
    }
   ],
   "source": [
    "# Print\n",
    "println(\"Hi, I am Swarnava.\")  # println() --> New line\n",
    "print(\"I work as a Data Analyst.\")"
   ]
  },
  {
   "cell_type": "code",
   "execution_count": 30,
   "id": "993375d0",
   "metadata": {},
   "outputs": [
    {
     "name": "stdout",
     "output_type": "stream",
     "text": [
      "My first name is Swarnava  and my last name is Mukherjee."
     ]
    }
   ],
   "source": [
    "print(\"My first name is $str1 and my last name is $str2.\")"
   ]
  },
  {
   "cell_type": "code",
   "execution_count": 31,
   "id": "eb88dc20",
   "metadata": {},
   "outputs": [
    {
     "data": {
      "text/plain": [
       "1996"
      ]
     },
     "execution_count": 31,
     "metadata": {},
     "output_type": "execute_result"
    }
   ],
   "source": [
    "# Lets assign another variable dob\n",
    "dob = 1996"
   ]
  },
  {
   "cell_type": "code",
   "execution_count": 33,
   "id": "0e65bcf1",
   "metadata": {},
   "outputs": [
    {
     "name": "stdout",
     "output_type": "stream",
     "text": [
      "My first name is Swarnava ,my last name is Mukherjee and my dob is 24."
     ]
    }
   ],
   "source": [
    "# Interpolation\n",
    "print(\"My first name is $str1,my last name is $str2 and my dob is $(2020-dob).\")"
   ]
  },
  {
   "cell_type": "markdown",
   "id": "b23ab610",
   "metadata": {},
   "source": [
    "### Commenting"
   ]
  },
  {
   "cell_type": "code",
   "execution_count": 34,
   "id": "b523a4fa",
   "metadata": {},
   "outputs": [],
   "source": [
    "# I am getting started with Julia Programming for Data Science as I think this is an amazing programming language. <- one liner"
   ]
  },
  {
   "cell_type": "code",
   "execution_count": 35,
   "id": "612cdb48",
   "metadata": {},
   "outputs": [
    {
     "name": "stdout",
     "output_type": "stream",
     "text": [
      "Hello World!"
     ]
    }
   ],
   "source": [
    "#= I am getting started with Julia Programming for Data Science.\n",
    "I think it is an amazing programming language.\n",
    "\n",
    "Julia is an open source programming language like R and Python.=#       # <- Multi line comment\n",
    "\n",
    "print(\"Hello World!\")"
   ]
  }
 ],
 "metadata": {
  "kernelspec": {
   "display_name": "Julia 1.6.3",
   "language": "julia",
   "name": "julia-1.6"
  },
  "language_info": {
   "file_extension": ".jl",
   "mimetype": "application/julia",
   "name": "julia",
   "version": "1.6.3"
  }
 },
 "nbformat": 4,
 "nbformat_minor": 5
}
