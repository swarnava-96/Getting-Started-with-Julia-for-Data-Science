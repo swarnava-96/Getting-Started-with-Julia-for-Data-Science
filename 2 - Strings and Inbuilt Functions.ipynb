{
 "cells": [
  {
   "cell_type": "markdown",
   "id": "0144890e",
   "metadata": {},
   "source": [
    "### Strings and Inbuilt Functions\n",
    "\n",
    "#### Character\n",
    "A Char value represents a single character. It is just a 32-bit primitive type with a special literal representation and appropriate arithmetic behaviors, and which can be converted to a numeric value representing a Unicode code point."
   ]
  },
  {
   "cell_type": "code",
   "execution_count": 1,
   "id": "331ee46e",
   "metadata": {},
   "outputs": [
    {
     "data": {
      "text/plain": [
       "'k': ASCII/Unicode U+006B (category Ll: Letter, lowercase)"
      ]
     },
     "execution_count": 1,
     "metadata": {},
     "output_type": "execute_result"
    }
   ],
   "source": [
    "'k'"
   ]
  },
  {
   "cell_type": "code",
   "execution_count": 3,
   "id": "296088d3",
   "metadata": {},
   "outputs": [
    {
     "data": {
      "text/plain": [
       "'K': ASCII/Unicode U+004B (category Lu: Letter, uppercase)"
      ]
     },
     "execution_count": 3,
     "metadata": {},
     "output_type": "execute_result"
    }
   ],
   "source": [
    "'K'"
   ]
  },
  {
   "cell_type": "code",
   "execution_count": 4,
   "id": "42ffcbf7",
   "metadata": {},
   "outputs": [
    {
     "data": {
      "text/plain": [
       "75"
      ]
     },
     "execution_count": 4,
     "metadata": {},
     "output_type": "execute_result"
    }
   ],
   "source": [
    "# We can convert characters into integers\n",
    "Int('K')"
   ]
  },
  {
   "cell_type": "code",
   "execution_count": 5,
   "id": "2c68deef",
   "metadata": {},
   "outputs": [
    {
     "data": {
      "text/plain": [
       "107"
      ]
     },
     "execution_count": 5,
     "metadata": {},
     "output_type": "execute_result"
    }
   ],
   "source": [
    "Int('k')"
   ]
  },
  {
   "cell_type": "code",
   "execution_count": 6,
   "id": "c6621004",
   "metadata": {},
   "outputs": [
    {
     "data": {
      "text/plain": [
       "64"
      ]
     },
     "execution_count": 6,
     "metadata": {},
     "output_type": "execute_result"
    }
   ],
   "source": [
    "Int('@')"
   ]
  },
  {
   "cell_type": "code",
   "execution_count": 7,
   "id": "cabc544f",
   "metadata": {},
   "outputs": [
    {
     "data": {
      "text/plain": [
       "'k': ASCII/Unicode U+006B (category Ll: Letter, lowercase)"
      ]
     },
     "execution_count": 7,
     "metadata": {},
     "output_type": "execute_result"
    }
   ],
   "source": [
    "# we can convert integers into strings\n",
    "Char(107)"
   ]
  },
  {
   "cell_type": "code",
   "execution_count": 8,
   "id": "11914db3",
   "metadata": {},
   "outputs": [
    {
     "data": {
      "text/plain": [
       "'@': ASCII/Unicode U+0040 (category Po: Punctuation, other)"
      ]
     },
     "execution_count": 8,
     "metadata": {},
     "output_type": "execute_result"
    }
   ],
   "source": [
    "Char(64)"
   ]
  },
  {
   "cell_type": "code",
   "execution_count": 9,
   "id": "8a6ba049",
   "metadata": {},
   "outputs": [
    {
     "data": {
      "text/plain": [
       "true"
      ]
     },
     "execution_count": 9,
     "metadata": {},
     "output_type": "execute_result"
    }
   ],
   "source": [
    "# We can use comparision\n",
    "Int('k') > Int('K')"
   ]
  },
  {
   "cell_type": "code",
   "execution_count": 10,
   "id": "03a614b5",
   "metadata": {},
   "outputs": [
    {
     "data": {
      "text/plain": [
       "false"
      ]
     },
     "execution_count": 10,
     "metadata": {},
     "output_type": "execute_result"
    }
   ],
   "source": [
    "Int('K') < Int('@')"
   ]
  },
  {
   "cell_type": "code",
   "execution_count": 11,
   "id": "3b2eb526",
   "metadata": {},
   "outputs": [
    {
     "data": {
      "text/plain": [
       "'m': ASCII/Unicode U+006D (category Ll: Letter, lowercase)"
      ]
     },
     "execution_count": 11,
     "metadata": {},
     "output_type": "execute_result"
    }
   ],
   "source": [
    "# Addition Operation on character\n",
    "'k' + 2"
   ]
  },
  {
   "cell_type": "code",
   "execution_count": 12,
   "id": "162f1879",
   "metadata": {},
   "outputs": [
    {
     "data": {
      "text/plain": [
       "'U': ASCII/Unicode U+0055 (category Lu: Letter, uppercase)"
      ]
     },
     "execution_count": 12,
     "metadata": {},
     "output_type": "execute_result"
    }
   ],
   "source": [
    "'K' + 10"
   ]
  },
  {
   "cell_type": "markdown",
   "id": "83ab7c69",
   "metadata": {},
   "source": [
    "#### Inbuilt Functions\n",
    "##### Slicing Operations"
   ]
  },
  {
   "cell_type": "code",
   "execution_count": 24,
   "id": "49f58728",
   "metadata": {},
   "outputs": [
    {
     "data": {
      "text/plain": [
       "\"Hello, my name is Swarnava.\""
      ]
     },
     "execution_count": 24,
     "metadata": {},
     "output_type": "execute_result"
    }
   ],
   "source": [
    "str1 = \"Hello, my name is Swarnava.\""
   ]
  },
  {
   "cell_type": "code",
   "execution_count": 25,
   "id": "77d5051c",
   "metadata": {},
   "outputs": [
    {
     "data": {
      "text/plain": [
       "'H': ASCII/Unicode U+0048 (category Lu: Letter, uppercase)"
      ]
     },
     "execution_count": 25,
     "metadata": {},
     "output_type": "execute_result"
    }
   ],
   "source": [
    "# Just like R indexing starts from 1 in Julia\n",
    "str1[1]"
   ]
  },
  {
   "cell_type": "code",
   "execution_count": 26,
   "id": "80ffed95",
   "metadata": {},
   "outputs": [
    {
     "data": {
      "text/plain": [
       "'H': ASCII/Unicode U+0048 (category Lu: Letter, uppercase)"
      ]
     },
     "execution_count": 26,
     "metadata": {},
     "output_type": "execute_result"
    }
   ],
   "source": [
    "# begin keyword\n",
    "str1[begin]"
   ]
  },
  {
   "cell_type": "code",
   "execution_count": 27,
   "id": "bc268bc4",
   "metadata": {},
   "outputs": [
    {
     "data": {
      "text/plain": [
       "'.': ASCII/Unicode U+002E (category Po: Punctuation, other)"
      ]
     },
     "execution_count": 27,
     "metadata": {},
     "output_type": "execute_result"
    }
   ],
   "source": [
    "# end\n",
    "str1[end]"
   ]
  },
  {
   "cell_type": "code",
   "execution_count": 28,
   "id": "17f9e9fc",
   "metadata": {},
   "outputs": [
    {
     "data": {
      "text/plain": [
       "'o': ASCII/Unicode U+006F (category Ll: Letter, lowercase)"
      ]
     },
     "execution_count": 28,
     "metadata": {},
     "output_type": "execute_result"
    }
   ],
   "source": [
    "str1[5]"
   ]
  },
  {
   "cell_type": "code",
   "execution_count": 19,
   "id": "d6d57022",
   "metadata": {},
   "outputs": [
    {
     "data": {
      "text/plain": [
       "\"Hello\""
      ]
     },
     "execution_count": 19,
     "metadata": {},
     "output_type": "execute_result"
    }
   ],
   "source": [
    "str = \"Hello\""
   ]
  },
  {
   "cell_type": "code",
   "execution_count": 20,
   "id": "1dcd7401",
   "metadata": {},
   "outputs": [
    {
     "data": {
      "text/plain": [
       "5"
      ]
     },
     "execution_count": 20,
     "metadata": {},
     "output_type": "execute_result"
    }
   ],
   "source": [
    "# length\n",
    "length(str)"
   ]
  },
  {
   "cell_type": "code",
   "execution_count": 21,
   "id": "96ea0a5f",
   "metadata": {},
   "outputs": [
    {
     "data": {
      "text/plain": [
       "\"Hel\""
      ]
     },
     "execution_count": 21,
     "metadata": {},
     "output_type": "execute_result"
    }
   ],
   "source": [
    "# Slicing (includes the last charcter as well)\n",
    "str[1:3]  "
   ]
  },
  {
   "cell_type": "code",
   "execution_count": 22,
   "id": "b764aa4a",
   "metadata": {},
   "outputs": [
    {
     "data": {
      "text/plain": [
       "1"
      ]
     },
     "execution_count": 22,
     "metadata": {},
     "output_type": "execute_result"
    }
   ],
   "source": [
    "# Getting the index number \n",
    "firstindex(str)"
   ]
  },
  {
   "cell_type": "code",
   "execution_count": 23,
   "id": "a234e7a5",
   "metadata": {},
   "outputs": [
    {
     "data": {
      "text/plain": [
       "5"
      ]
     },
     "execution_count": 23,
     "metadata": {},
     "output_type": "execute_result"
    }
   ],
   "source": [
    "lastindex(str)"
   ]
  },
  {
   "cell_type": "code",
   "execution_count": 30,
   "id": "b3aeb746",
   "metadata": {},
   "outputs": [
    {
     "data": {
      "text/plain": [
       "'e': ASCII/Unicode U+0065 (category Ll: Letter, lowercase)"
      ]
     },
     "execution_count": 30,
     "metadata": {},
     "output_type": "execute_result"
    }
   ],
   "source": [
    "str[end÷2]"
   ]
  },
  {
   "cell_type": "code",
   "execution_count": 31,
   "id": "9a6253e4",
   "metadata": {},
   "outputs": [
    {
     "data": {
      "text/plain": [
       "'l': ASCII/Unicode U+006C (category Ll: Letter, lowercase)"
      ]
     },
     "execution_count": 31,
     "metadata": {},
     "output_type": "execute_result"
    }
   ],
   "source": [
    "str[end - 2]"
   ]
  },
  {
   "cell_type": "code",
   "execution_count": 32,
   "id": "98c383b1",
   "metadata": {},
   "outputs": [
    {
     "data": {
      "text/plain": [
       "\"Julia Programming Language\""
      ]
     },
     "execution_count": 32,
     "metadata": {},
     "output_type": "execute_result"
    }
   ],
   "source": [
    "# Substring\n",
    "str = \"Julia Programming Language\" "
   ]
  },
  {
   "cell_type": "code",
   "execution_count": 33,
   "id": "b86943c3",
   "metadata": {},
   "outputs": [
    {
     "data": {
      "text/plain": [
       "\"Julia\""
      ]
     },
     "execution_count": 33,
     "metadata": {},
     "output_type": "execute_result"
    }
   ],
   "source": [
    "substr = SubString(str,1,5)"
   ]
  },
  {
   "cell_type": "code",
   "execution_count": 34,
   "id": "cf63d6e3",
   "metadata": {},
   "outputs": [
    {
     "data": {
      "text/plain": [
       "SubString{String}"
      ]
     },
     "execution_count": 34,
     "metadata": {},
     "output_type": "execute_result"
    }
   ],
   "source": [
    "# lets check the type\n",
    "typeof(substr)"
   ]
  },
  {
   "cell_type": "code",
   "execution_count": 35,
   "id": "616ee124",
   "metadata": {},
   "outputs": [
    {
     "data": {
      "text/plain": [
       "true"
      ]
     },
     "execution_count": 35,
     "metadata": {},
     "output_type": "execute_result"
    }
   ],
   "source": [
    "# Common Operations\n",
    "\"1 + 2 = 3\" == \"1 + 2 = $(1 + 2)\""
   ]
  },
  {
   "cell_type": "code",
   "execution_count": 36,
   "id": "6e73d0d7",
   "metadata": {},
   "outputs": [
    {
     "data": {
      "text/plain": [
       "false"
      ]
     },
     "execution_count": 36,
     "metadata": {},
     "output_type": "execute_result"
    }
   ],
   "source": [
    "\"SwarnavaMukherjee\" == \"Swarnava Mukherjee\""
   ]
  },
  {
   "cell_type": "code",
   "execution_count": 40,
   "id": "6556893a",
   "metadata": {},
   "outputs": [
    {
     "data": {
      "text/plain": [
       "3"
      ]
     },
     "execution_count": 40,
     "metadata": {},
     "output_type": "execute_result"
    }
   ],
   "source": [
    "# We can search for the index of a particular character using the findfirst and findlast functions:\n",
    "findfirst('a',\"Swarnava Mukherjee\")"
   ]
  },
  {
   "cell_type": "code",
   "execution_count": 41,
   "id": "88014d96",
   "metadata": {},
   "outputs": [
    {
     "data": {
      "text/plain": [
       "8"
      ]
     },
     "execution_count": 41,
     "metadata": {},
     "output_type": "execute_result"
    }
   ],
   "source": [
    "findlast('a',\"Swarnava Mukherjee\")"
   ]
  },
  {
   "cell_type": "code",
   "execution_count": 42,
   "id": "03e3c260",
   "metadata": {},
   "outputs": [
    {
     "data": {
      "text/plain": [
       "6"
      ]
     },
     "execution_count": 42,
     "metadata": {},
     "output_type": "execute_result"
    }
   ],
   "source": [
    "# Start the search for a character at a given offset by using the functions findnext and findprev\n",
    "findnext('a',\"Swarnava Mukherjee\",4)"
   ]
  },
  {
   "cell_type": "code",
   "execution_count": 43,
   "id": "f75a8f2a",
   "metadata": {},
   "outputs": [
    {
     "data": {
      "text/plain": [
       "3"
      ]
     },
     "execution_count": 43,
     "metadata": {},
     "output_type": "execute_result"
    }
   ],
   "source": [
    "findprev('a',\"Swarnava Mukherjee\",4)"
   ]
  },
  {
   "cell_type": "code",
   "execution_count": 45,
   "id": "5bddea00",
   "metadata": {},
   "outputs": [
    {
     "data": {
      "text/plain": [
       "true"
      ]
     },
     "execution_count": 45,
     "metadata": {},
     "output_type": "execute_result"
    }
   ],
   "source": [
    "# We can use the occursin function to check if a substring is found within a string:\n",
    "occursin(\"na\", \"Swarnava Mukherjee\")"
   ]
  }
 ],
 "metadata": {
  "kernelspec": {
   "display_name": "Julia 1.6.3",
   "language": "julia",
   "name": "julia-1.6"
  },
  "language_info": {
   "file_extension": ".jl",
   "mimetype": "application/julia",
   "name": "julia",
   "version": "1.6.3"
  }
 },
 "nbformat": 4,
 "nbformat_minor": 5
}
